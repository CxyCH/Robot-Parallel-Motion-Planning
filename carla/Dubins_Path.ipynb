{
  "nbformat": 4,
  "nbformat_minor": 0,
  "metadata": {
    "colab": {
      "name": "Dubins Path.ipynb",
      "provenance": [],
      "collapsed_sections": []
    },
    "kernelspec": {
      "name": "python3",
      "display_name": "Python 3"
    },
    "accelerator": "GPU"
  },
  "cells": [
    {
      "cell_type": "code",
      "metadata": {
        "id": "MP4jSOxfJ9P3",
        "colab_type": "code",
        "outputId": "be8ab6e5-fa16-42b1-bbf3-448f3a8af5f9",
        "colab": {
          "base_uri": "https://localhost:8080/",
          "height": 492
        }
      },
      "source": [
        "!pip install pycuda"
      ],
      "execution_count": 0,
      "outputs": [
        {
          "output_type": "stream",
          "text": [
            "Collecting pycuda\n",
            "\u001b[?25l  Downloading https://files.pythonhosted.org/packages/5e/3f/5658c38579b41866ba21ee1b5020b8225cec86fe717e4b1c5c972de0a33c/pycuda-2019.1.2.tar.gz (1.6MB)\n",
            "\u001b[K     |████████████████████████████████| 1.6MB 2.8MB/s \n",
            "\u001b[?25hCollecting pytools>=2011.2\n",
            "\u001b[?25l  Downloading https://files.pythonhosted.org/packages/00/96/00416762a3eda8876a17d007df4a946f46b2e4ee1057e0b9714926472ef8/pytools-2019.1.1.tar.gz (58kB)\n",
            "\u001b[K     |████████████████████████████████| 61kB 6.8MB/s \n",
            "\u001b[?25hRequirement already satisfied: decorator>=3.2.0 in /usr/local/lib/python3.6/dist-packages (from pycuda) (4.4.1)\n",
            "Collecting appdirs>=1.4.0\n",
            "  Downloading https://files.pythonhosted.org/packages/56/eb/810e700ed1349edde4cbdc1b2a21e28cdf115f9faf263f6bbf8447c1abf3/appdirs-1.4.3-py2.py3-none-any.whl\n",
            "Collecting mako\n",
            "\u001b[?25l  Downloading https://files.pythonhosted.org/packages/b0/3c/8dcd6883d009f7cae0f3157fb53e9afb05a0d3d33b3db1268ec2e6f4a56b/Mako-1.1.0.tar.gz (463kB)\n",
            "\u001b[K     |████████████████████████████████| 471kB 35.4MB/s \n",
            "\u001b[?25hRequirement already satisfied: six>=1.8.0 in /usr/local/lib/python3.6/dist-packages (from pytools>=2011.2->pycuda) (1.12.0)\n",
            "Requirement already satisfied: numpy>=1.6.0 in /usr/local/lib/python3.6/dist-packages (from pytools>=2011.2->pycuda) (1.17.4)\n",
            "Requirement already satisfied: MarkupSafe>=0.9.2 in /usr/local/lib/python3.6/dist-packages (from mako->pycuda) (1.1.1)\n",
            "Building wheels for collected packages: pycuda, pytools, mako\n",
            "  Building wheel for pycuda (setup.py) ... \u001b[?25l\u001b[?25hdone\n",
            "  Created wheel for pycuda: filename=pycuda-2019.1.2-cp36-cp36m-linux_x86_64.whl size=4535362 sha256=1f4dc28c5121fc1d8ccb6e28df84638c35c92d19e856a40f83f6512d7edbd779\n",
            "  Stored in directory: /root/.cache/pip/wheels/a6/60/f0/b1c430c73d281ac3e46070480db50f7907364eb6f6d3188396\n",
            "  Building wheel for pytools (setup.py) ... \u001b[?25l\u001b[?25hdone\n",
            "  Created wheel for pytools: filename=pytools-2019.1.1-py2.py3-none-any.whl size=58424 sha256=7377e045a712a7f45bfe070ec3d81c4c4beb7b0bdd98e1e119052be492831cba\n",
            "  Stored in directory: /root/.cache/pip/wheels/83/df/0b/75ac4572aaa93e3eba6a58472635d0fda907f5f4cf884a3a0c\n",
            "  Building wheel for mako (setup.py) ... \u001b[?25l\u001b[?25hdone\n",
            "  Created wheel for mako: filename=Mako-1.1.0-cp36-none-any.whl size=75363 sha256=320b0ed924b01f5c5d7687846cd164f6c7bc5873914f483b1601424d092adae9\n",
            "  Stored in directory: /root/.cache/pip/wheels/98/32/7b/a291926643fc1d1e02593e0d9e247c5a866a366b8343b7aa27\n",
            "Successfully built pycuda pytools mako\n",
            "Installing collected packages: appdirs, pytools, mako, pycuda\n",
            "Successfully installed appdirs-1.4.3 mako-1.1.0 pycuda-2019.1.2 pytools-2019.1.1\n"
          ],
          "name": "stdout"
        }
      ]
    },
    {
      "cell_type": "code",
      "metadata": {
        "id": "DCPH5QLmJmif",
        "colab_type": "code",
        "outputId": "6f1eaac9-671b-4033-fc11-26093dd7a133",
        "colab": {
          "base_uri": "https://localhost:8080/",
          "height": 310
        }
      },
      "source": [
        "import pycuda.autoinit\n",
        "import pycuda.driver as cuda\n",
        "import numpy as np\n",
        "\n",
        "from pycuda.compiler import SourceModule\n",
        "mod = SourceModule(\"\"\"\n",
        "__global__ void multiply_them(float *dest, float *a, float *b, int n)\n",
        "{\n",
        "  const int i = threadIdx.x;\n",
        "\n",
        "  if (i>=n){\n",
        "    return;\n",
        "  }\n",
        "  dest[i] = a[i] * b[i];\n",
        "}\n",
        "\"\"\")\n",
        "\n",
        "multiply_them = mod.get_function(\"multiply_them\")\n",
        "\n",
        "a = np.random.randn(400).astype(np.float32)\n",
        "b = np.random.randn(400).astype(np.float32)\n",
        "length_n = np.int32(a.shape[0])\n",
        "\n",
        "\n",
        "print(length_n)\n",
        "dest = np.zeros_like(a)\n",
        "multiply_them(\n",
        "        cuda.Out(dest), cuda.In(a), cuda.In(b),length_n,\n",
        "        block=(400,1,1), grid=(1,1))\n",
        "\n",
        "print(dest-a*b)"
      ],
      "execution_count": 0,
      "outputs": [
        {
          "output_type": "stream",
          "text": [
            "400\n",
            "[0. 0. 0. 0. 0. 0. 0. 0. 0. 0. 0. 0. 0. 0. 0. 0. 0. 0. 0. 0. 0. 0. 0. 0.\n",
            " 0. 0. 0. 0. 0. 0. 0. 0. 0. 0. 0. 0. 0. 0. 0. 0. 0. 0. 0. 0. 0. 0. 0. 0.\n",
            " 0. 0. 0. 0. 0. 0. 0. 0. 0. 0. 0. 0. 0. 0. 0. 0. 0. 0. 0. 0. 0. 0. 0. 0.\n",
            " 0. 0. 0. 0. 0. 0. 0. 0. 0. 0. 0. 0. 0. 0. 0. 0. 0. 0. 0. 0. 0. 0. 0. 0.\n",
            " 0. 0. 0. 0. 0. 0. 0. 0. 0. 0. 0. 0. 0. 0. 0. 0. 0. 0. 0. 0. 0. 0. 0. 0.\n",
            " 0. 0. 0. 0. 0. 0. 0. 0. 0. 0. 0. 0. 0. 0. 0. 0. 0. 0. 0. 0. 0. 0. 0. 0.\n",
            " 0. 0. 0. 0. 0. 0. 0. 0. 0. 0. 0. 0. 0. 0. 0. 0. 0. 0. 0. 0. 0. 0. 0. 0.\n",
            " 0. 0. 0. 0. 0. 0. 0. 0. 0. 0. 0. 0. 0. 0. 0. 0. 0. 0. 0. 0. 0. 0. 0. 0.\n",
            " 0. 0. 0. 0. 0. 0. 0. 0. 0. 0. 0. 0. 0. 0. 0. 0. 0. 0. 0. 0. 0. 0. 0. 0.\n",
            " 0. 0. 0. 0. 0. 0. 0. 0. 0. 0. 0. 0. 0. 0. 0. 0. 0. 0. 0. 0. 0. 0. 0. 0.\n",
            " 0. 0. 0. 0. 0. 0. 0. 0. 0. 0. 0. 0. 0. 0. 0. 0. 0. 0. 0. 0. 0. 0. 0. 0.\n",
            " 0. 0. 0. 0. 0. 0. 0. 0. 0. 0. 0. 0. 0. 0. 0. 0. 0. 0. 0. 0. 0. 0. 0. 0.\n",
            " 0. 0. 0. 0. 0. 0. 0. 0. 0. 0. 0. 0. 0. 0. 0. 0. 0. 0. 0. 0. 0. 0. 0. 0.\n",
            " 0. 0. 0. 0. 0. 0. 0. 0. 0. 0. 0. 0. 0. 0. 0. 0. 0. 0. 0. 0. 0. 0. 0. 0.\n",
            " 0. 0. 0. 0. 0. 0. 0. 0. 0. 0. 0. 0. 0. 0. 0. 0. 0. 0. 0. 0. 0. 0. 0. 0.\n",
            " 0. 0. 0. 0. 0. 0. 0. 0. 0. 0. 0. 0. 0. 0. 0. 0. 0. 0. 0. 0. 0. 0. 0. 0.\n",
            " 0. 0. 0. 0. 0. 0. 0. 0. 0. 0. 0. 0. 0. 0. 0. 0.]\n"
          ],
          "name": "stdout"
        }
      ]
    },
    {
      "cell_type": "code",
      "metadata": {
        "id": "JnUsRGLlFuQ-",
        "colab_type": "code",
        "colab": {}
      },
      "source": [
        "import numpy as np"
      ],
      "execution_count": 0,
      "outputs": []
    },
    {
      "cell_type": "code",
      "metadata": {
        "id": "1Qj4Qkk2f4nG",
        "colab_type": "code",
        "colab": {}
      },
      "source": [
        "def compute_arch(p1,p2,p3,r,direction):\n",
        "  #print(p3)\n",
        "  #print(p1)\n",
        "  if p2.shape[0]>2:\n",
        "    p2_h = p2[:2]\n",
        "    v1 = p2_h-p1\n",
        "    v2 = p3-p1\n",
        "  elif p3.shape[0]>2:\n",
        "    p3_h = p3[:2]\n",
        "    v1 = p2-p1\n",
        "    v2 = p3_h-p1\n",
        "  #print(v1)\n",
        "  #print(np.arctan2(v1[1],v1[0]))\n",
        "  theta = np.arctan2(v2[1],v2[0]) - np.arctan2(v1[1],v1[0])\n",
        "\n",
        "  #print(theta)\n",
        "\n",
        "  if theta<0 and direction=='left':\n",
        "    theta +=(np.pi*2)\n",
        "    \n",
        "\n",
        "  elif theta>0 and direction=='right':\n",
        "    theta-=(np.pi*2)\n",
        "\n",
        "  if direction == 'left':\n",
        "    if p3.shape[0]>2:\n",
        "      angle = np.arctan2((p2[1]-p1[1]),(p2[0]-p1[0]))\n",
        "    else:\n",
        "      angle = p2[2] - (np.pi/2)\n",
        "  else:\n",
        "    if p3.shape[0]>2:\n",
        "      angle = np.arctan2((p2[1]-p1[1]),(p2[0]-p1[0]))\n",
        "    else:\n",
        "      angle = p2[2] + (np.pi/2)\n",
        "\n",
        "\n",
        "  #print(angle)\n",
        "  theta_vals = np.linspace(angle,(angle+theta),num=50)\n",
        "  #print(theta,' theta')\n",
        "  #print(theta_vals)\n",
        "\n",
        "\n",
        "  x_vals = (r * np.cos(theta_vals)) + p1[0]\n",
        "  y_vals = (r * np.sin(theta_vals)) + p1[1]\n",
        "\n",
        "\n",
        "  \n",
        "  \n",
        "  return theta,x_vals,y_vals"
      ],
      "execution_count": 0,
      "outputs": []
    },
    {
      "cell_type": "code",
      "metadata": {
        "id": "ME1vxJhm2IEU",
        "colab_type": "code",
        "outputId": "7200b109-af69-49c3-cd7e-38e1c1dd8dac",
        "colab": {
          "base_uri": "https://localhost:8080/",
          "height": 33
        }
      },
      "source": [
        " a= [1,2,3]\n",
        " b = [2,3,4]\n",
        "a+b"
      ],
      "execution_count": 0,
      "outputs": [
        {
          "output_type": "execute_result",
          "data": {
            "text/plain": [
              "[1, 2, 3, 2, 3, 4]"
            ]
          },
          "metadata": {
            "tags": []
          },
          "execution_count": 164
        }
      ]
    },
    {
      "cell_type": "code",
      "metadata": {
        "id": "uRW0kvYu6oBB",
        "colab_type": "code",
        "colab": {}
      },
      "source": [
        "def RSR_center(test_start,test_end,r_min=2):\n",
        "  p_c1 = [test_start[0]+(r_min*np.cos(test_start[2]-np.pi/2)), test_start[1]+(r_min*np.sin(test_start[2]-np.pi/2))]\n",
        "  p_c2 = [test_end[0]+(r_min*np.cos(test_end[2]-np.pi/2)), test_end[1]+(r_min*np.sin(test_end[2]-np.pi/2))]\n",
        "  r_1 = np.sqrt((p_c1[0]-test_start[0])**2 + (p_c1[1]-test_start[1])**2)\n",
        "  r_2 = np.sqrt((p_c2[0]-test_end[0])**2 + (p_c2[1]-test_end[1])**2)\n",
        "\n",
        "  return p_c1, p_c2,r_1,r_2\n",
        "  \n",
        "\n",
        "def LSL_center(test_start,test_end,r_min=2):\n",
        "  p_c1 = [test_start[0]+(r_min*np.cos(test_start[2]+np.pi/2)), test_start[1]+(r_min*np.sin(test_start[2]+np.pi/2))]\n",
        "  p_c2 = [test_end[0]+(r_min*np.cos(test_end[2]+np.pi/2)), test_end[1]+(r_min*np.sin(test_end[2]+np.pi/2))]\n",
        "  #print(p_c1)\n",
        "  #print(p_c2)\n",
        "  r_1 = -np.sqrt((p_c1[0]-test_start[0])**2 + (p_c1[1]-test_start[1])**2)\n",
        "  r_2 = -np.sqrt((p_c2[0]-test_end[0])**2 + (p_c2[1]-test_end[1])**2)\n",
        "\n",
        "  return p_c1, p_c2,r_1,r_2\n",
        "  \n",
        "\n",
        "\n",
        "def LSR_center(test_start,test_end,r_min=2):\n",
        "  p_c1 = [test_start[0]+(r_min*np.cos(test_start[2]+np.pi/2)), test_start[1]+(r_min*np.sin(test_start[2]+np.pi/2))]\n",
        "  p_c2 = [test_end[0]+(r_min*np.cos(test_end[2]-np.pi/2)), test_end[1]+(r_min*np.sin(test_end[2]-np.pi/2))]\n",
        "  #print(p_c1)\n",
        "  #print(p_c2)\n",
        "  r_1 = -np.sqrt((p_c1[0]-test_start[0])**2 + (p_c1[1]-test_start[1])**2)\n",
        "  r_2 = np.sqrt((p_c2[0]-test_end[0])**2 + (p_c2[1]-test_end[1])**2)\n",
        "\n",
        "  return p_c1, p_c2,r_1,r_2\n",
        "  \n",
        "\n",
        "def RSL_center(test_start,test_end,r_min=2):\n",
        "  p_c1 = [test_start[0]+(r_min*np.cos(test_start[2]-np.pi/2)), test_start[1]+(r_min*np.sin(test_start[2]-np.pi/2))]\n",
        "  p_c2 = [test_end[0]+(r_min*np.cos(test_end[2]+np.pi/2)), test_end[1]+(r_min*np.sin(test_end[2]+np.pi/2))]\n",
        "  #print(p_c1)\n",
        "  #print(p_c2)\n",
        "  r_1 = np.sqrt((p_c1[0]-test_start[0])**2 + (p_c1[1]-test_start[1])**2)\n",
        "  r_2 = -np.sqrt((p_c2[0]-test_end[0])**2 + (p_c2[1]-test_end[1])**2)\n",
        "\n",
        "  return p_c1, p_c2,r_1,r_2\n",
        "  \n",
        "\n",
        "\n"
      ],
      "execution_count": 0,
      "outputs": []
    },
    {
      "cell_type": "code",
      "metadata": {
        "id": "uA9keAZPZI-B",
        "colab_type": "code",
        "colab": {}
      },
      "source": [
        "def check_col(y_vals,x_vals,obsticle):\n",
        "\n",
        "  #print(obs)\n",
        "  #this should be on the GPU\n",
        "\n",
        "  for i in range(y_vals.shape[0]):\n",
        "    #this might flip if y is flipped\n",
        "    if obsticle[3]<=y_vals[i]<=obsticle[1] and x_vals[i]-0.05<=obsticle[0]<=x_vals[i]+0.05:\n",
        "      #print()\n",
        "      return True\n",
        "  \n",
        "  return False "
      ],
      "execution_count": 0,
      "outputs": []
    },
    {
      "cell_type": "code",
      "metadata": {
        "id": "r935WF_1FYvT",
        "colab_type": "code",
        "outputId": "2da0d436-c3f3-4c94-cd00-1ca216c7acb9",
        "colab": {
          "base_uri": "https://localhost:8080/",
          "height": 147
        }
      },
      "source": [
        "test_start =np.array([5,5,np.pi/2])\n",
        "test_end = np.array([10,5,-np.pi/2])\n",
        "\n",
        "# dont forget to change y direction somehow  row_len - obs[1]\n",
        "obs = np.array([3,5,8,3])\n",
        "\n",
        "options = ['LSL','RSR','LSR','RSL']\n",
        "\n",
        "x_vals = np.zeros((150,))\n",
        "y_vals = np.zeros((150,))\n",
        "r_min = 2\n",
        "\n",
        "for route in options:\n",
        "  if route == 'RSR':\n",
        "    print('RSR')\n",
        "    p_c1, p_c2,r_1,r_2 = RSR_center(test_start,test_end,r_min=2)\n",
        "    theta1_dir = 'right'\n",
        "    theta2_dir = 'right'\n",
        "  elif route == 'LSL':\n",
        "    print('LSL')\n",
        "    p_c1, p_c2,r_1,r_2 = LSL_center(test_start,test_end,r_min=2)\n",
        "    theta1_dir = 'left'\n",
        "    theta2_dir = 'left'\n",
        "  elif route == 'LSR':\n",
        "    print('LSR')\n",
        "    p_c1, p_c2,r_1,r_2 = LSR_center(test_start,test_end,r_min=2)\n",
        "    theta1_dir = 'left'\n",
        "    theta2_dir = 'right'\n",
        "  elif route == 'RSL':\n",
        "    print('RSL')\n",
        "    p_c1, p_c2,r_1,r_2 = RSL_center(test_start,test_end,r_min=2)\n",
        "    theta1_dir = 'right'\n",
        "    theta2_dir = 'left'\n",
        "\n",
        "  obs_1D = np.array([obs[1], obs[3]])\n",
        "\n",
        "\n",
        "  #print(obs_1D)\n",
        "\n",
        "  V1 = [(p_c2[0]-p_c1[0]),(p_c2[1]-p_c2[1])]\n",
        "  dist_centers = np.sqrt(V1[0]**2 + V1[1]**2)\n",
        "\n",
        "  c= (r_1-r_2)/dist_centers\n",
        "  V1 /= dist_centers\n",
        "\n",
        "\n",
        "\n",
        "  normal = [(V1[0]*c)-(V1[1]*np.sqrt(1-c**2)),(V1[0]*np.sqrt(1-c**2))+(V1[1]*c)]\n",
        "\n",
        "  tangent_1 = p_c1 + (r_1* np.array(normal))\n",
        "\n",
        "  tangent_2 = p_c2 + (r_2*np.array(normal))\n",
        "  #print(p_c2,'center')\n",
        "\n",
        "  #print(tangent_2)\n",
        "\n",
        "  V2 = tangent_2-tangent_1\n",
        "\n",
        "  \n",
        "  theta_1,x_vals[:50],y_vals[:50] = compute_arch(p_c1,test_start,tangent_1,np.absolute(r_1),theta1_dir)\n",
        "  #print(x_vals,y_vals)\n",
        "  theta_2,x_vals[100:],y_vals[100:] = compute_arch(p_c2,tangent_2,test_end,np.absolute(r_2),direction = theta2_dir)\n",
        "  #print(x_vals,y_vals)\n",
        "\n",
        "  x_vals[50:100] = np.linspace(x_vals[49],x_vals[100],50)\n",
        "  y_vals[50:100] = np.linspace(y_vals[49],y_vals[100],50)\n",
        "\n",
        "  #print(x_vals)\n",
        "\n",
        "  print(check_col(y_vals,x_vals,obs))\n",
        "  cost = np.absolute((r_1*theta_1)) + np.absolute((r_2*theta_2)) + np.sqrt(V2[0]**2 + V2[1]**2)\n",
        "    \n",
        "\n",
        "    \n",
        "    \n",
        "\n"
      ],
      "execution_count": 0,
      "outputs": [
        {
          "output_type": "stream",
          "text": [
            "LSL\n",
            "True\n",
            "RSR\n",
            "False\n",
            "LSR\n",
            "True\n",
            "RSL\n",
            "False\n"
          ],
          "name": "stdout"
        }
      ]
    }
  ]
}